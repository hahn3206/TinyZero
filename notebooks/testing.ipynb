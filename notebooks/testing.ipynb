{
 "cells": [
  {
   "cell_type": "code",
   "execution_count": 1,
   "metadata": {},
   "outputs": [
    {
     "name": "stderr",
     "output_type": "stream",
     "text": [
      "/user/iibi/anhahn/anaconda3/envs/PRIME/lib/python3.10/site-packages/tqdm/auto.py:21: TqdmWarning: IProgress not found. Please update jupyter and ipywidgets. See https://ipywidgets.readthedocs.io/en/stable/user_install.html\n",
      "  from .autonotebook import tqdm as notebook_tqdm\n",
      "Generating training split: 100%|██████████| 400/400 [00:00<00:00, 2953.88 examples/s]\n",
      "Generating evaluation split: 100%|██████████| 400/400 [00:00<00:00, 2067.08 examples/s]\n",
      "Generating trial split: 100%|██████████| 5/5 [00:00<00:00, 88.46 examples/s]"
     ]
    },
    {
     "name": "stdout",
     "output_type": "stream",
     "text": [
      "DatasetDict({\n",
      "    training: Dataset({\n",
      "        features: ['train', 'test'],\n",
      "        num_rows: 400\n",
      "    })\n",
      "    evaluation: Dataset({\n",
      "        features: ['train', 'test'],\n",
      "        num_rows: 400\n",
      "    })\n",
      "    trial: Dataset({\n",
      "        features: ['train', 'test'],\n",
      "        num_rows: 5\n",
      "    })\n",
      "})\n"
     ]
    },
    {
     "name": "stderr",
     "output_type": "stream",
     "text": [
      "\n"
     ]
    }
   ],
   "source": [
    "import datasets\n",
    "\n",
    "dataset = datasets.load_dataset('lordspline/arc-agi', trust_remote_code=True)\n",
    "\n",
    "print(dataset)\n",
    "\n",
    "\n",
    "train_dataset = dataset['training']\n",
    "test_dataset = dataset['evaluation']\n"
   ]
  },
  {
   "cell_type": "code",
   "execution_count": null,
   "metadata": {},
   "outputs": [],
   "source": []
  }
 ],
 "metadata": {
  "kernelspec": {
   "display_name": "PRIME",
   "language": "python",
   "name": "python3"
  },
  "language_info": {
   "codemirror_mode": {
    "name": "ipython",
    "version": 3
   },
   "file_extension": ".py",
   "mimetype": "text/x-python",
   "name": "python",
   "nbconvert_exporter": "python",
   "pygments_lexer": "ipython3",
   "version": "3.10.16"
  }
 },
 "nbformat": 4,
 "nbformat_minor": 2
}
